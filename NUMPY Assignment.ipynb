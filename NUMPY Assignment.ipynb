{
 "cells": [
  {
   "cell_type": "code",
   "execution_count": 9,
   "id": "6b27cb53-2010-4d27-be0b-75f379e5666d",
   "metadata": {},
   "outputs": [],
   "source": [
    "#1. Create a 3x3 NumPy array with random integers between 1 and 100. Then, interchange its rows and columns."
   ]
  },
  {
   "cell_type": "code",
   "execution_count": 7,
   "id": "6023000a-be2c-441e-b202-2eedc77e8804",
   "metadata": {},
   "outputs": [
    {
     "name": "stdout",
     "output_type": "stream",
     "text": [
      "Original Array:\n",
      " [[ 53  68 100]\n",
      " [ 73  88  53]\n",
      " [ 75  79  81]]\n",
      "Transposed Array:\n",
      " [[ 53  73  75]\n",
      " [ 68  88  79]\n",
      " [100  53  81]]\n"
     ]
    }
   ],
   "source": [
    "import numpy as np\n",
    "\n",
    "arr = np.random.randint(1, 101, size=(3, 3))\n",
    "print(\"Original Array:\\n\", arr)\n",
    "\n",
    "transposed_arr = arr.T\n",
    "print(\"Transposed Array:\\n\", transposed_arr)\n"
   ]
  },
  {
   "cell_type": "code",
   "execution_count": null,
   "id": "dee7c7b9-9b05-4372-adda-b6c2350bfa3f",
   "metadata": {},
   "outputs": [],
   "source": [
    "# 2. Generate a 1D NumPy array with 10 elements. Reshape it into a 2x5 array, then into a 5x2 array. "
   ]
  },
  {
   "cell_type": "code",
   "execution_count": 11,
   "id": "2280ab22-de38-499b-a35d-abb44a47b5cb",
   "metadata": {},
   "outputs": [
    {
     "name": "stdout",
     "output_type": "stream",
     "text": [
      "1D Array:\n",
      " [0 1 2 3 4 5 6 7 8 9]\n",
      "2x5 Array:\n",
      " [[0 1 2 3 4]\n",
      " [5 6 7 8 9]]\n",
      "5x2 Array:\n",
      " [[0 1]\n",
      " [2 3]\n",
      " [4 5]\n",
      " [6 7]\n",
      " [8 9]]\n"
     ]
    }
   ],
   "source": [
    "# 1D array with 10 elements\n",
    "arr = np.arange(10)\n",
    "print(\"1D Array:\\n\", arr)\n",
    "# Reshape to 2x5\n",
    "arr_2x5 = arr.reshape(2, 5)\n",
    "print(\"2x5 Array:\\n\", arr_2x5)\n",
    "# Reshape to 5x2\n",
    "arr_5x2 = arr.reshape(5, 2)\n",
    "print(\"5x2 Array:\\n\", arr_5x2)\n"
   ]
  },
  {
   "cell_type": "code",
   "execution_count": null,
   "id": "603ae38d-864e-420e-bbd6-e0b661e6e491",
   "metadata": {},
   "outputs": [],
   "source": [
    "#3. Create a 4x4 NumPy array with random float values. Add a border of zeros around it, resulting in a 6x6 array. "
   ]
  },
  {
   "cell_type": "code",
   "execution_count": 13,
   "id": "5b4b30e3-c7c3-43ee-9db2-64930cc1676b",
   "metadata": {},
   "outputs": [
    {
     "name": "stdout",
     "output_type": "stream",
     "text": [
      "Original 4x4 Array:\n",
      " [[0.23646397 0.36189872 0.97275698 0.37964314]\n",
      " [0.76304367 0.00560399 0.28637706 0.20232406]\n",
      " [0.41162063 0.38106678 0.80968554 0.03918393]\n",
      " [0.06931493 0.70687138 0.31413639 0.45937644]]\n",
      "Array with Zero Border:\n",
      " [[0.         0.         0.         0.         0.         0.        ]\n",
      " [0.         0.23646397 0.36189872 0.97275698 0.37964314 0.        ]\n",
      " [0.         0.76304367 0.00560399 0.28637706 0.20232406 0.        ]\n",
      " [0.         0.41162063 0.38106678 0.80968554 0.03918393 0.        ]\n",
      " [0.         0.06931493 0.70687138 0.31413639 0.45937644 0.        ]\n",
      " [0.         0.         0.         0.         0.         0.        ]]\n"
     ]
    }
   ],
   "source": [
    "#4x4 array with random float values\n",
    "arr = np.random.rand(4, 4)\n",
    "print(\"Original 4x4 Array:\\n\", arr)\n",
    "\n",
    "#border of zeros to make it 6x6\n",
    "arr_with_border = np.pad(arr, pad_width=1, mode='constant', constant_values=0)\n",
    "print(\"Array with Zero Border:\\n\", arr_with_border)\n"
   ]
  },
  {
   "cell_type": "code",
   "execution_count": null,
   "id": "7f564d34-4bca-4df0-9149-d3b945c1219c",
   "metadata": {},
   "outputs": [],
   "source": [
    "#4. Using NumPy, create an array of integers from 10 to 60 with a step of 5."
   ]
  },
  {
   "cell_type": "code",
   "execution_count": 15,
   "id": "eb8210bb-fe5f-4ccf-a4db-09cd5173ac34",
   "metadata": {},
   "outputs": [
    {
     "name": "stdout",
     "output_type": "stream",
     "text": [
      "Array from 10 to 60 with step 5:\n",
      " [10 15 20 25 30 35 40 45 50 55 60]\n"
     ]
    }
   ],
   "source": [
    "arr = np.arange(10, 61, 5)\n",
    "print(\"Array from 10 to 60 with step 5:\\n\", arr)\n"
   ]
  },
  {
   "cell_type": "code",
   "execution_count": null,
   "id": "799bfd49-d3b5-4ebb-a12f-a40aa743440e",
   "metadata": {},
   "outputs": [],
   "source": [
    "# 5. Create a NumPy array of strings ['python', 'numpy', 'pandas']. Apply different case transformations (uppercase, lowercase, title case, etc.) to each element."
   ]
  },
  {
   "cell_type": "code",
   "execution_count": 17,
   "id": "13967eae-e5a5-47b5-b376-1775e16d7781",
   "metadata": {},
   "outputs": [
    {
     "name": "stdout",
     "output_type": "stream",
     "text": [
      "Uppercase:\n",
      " ['PYTHON' 'NUMPY' 'PANDAS']\n",
      "Lowercase:\n",
      " ['python' 'numpy' 'pandas']\n",
      "Titlecase:\n",
      " ['Python' 'Numpy' 'Pandas']\n"
     ]
    }
   ],
   "source": [
    "arr = np.array(['python', 'numpy', 'pandas'])\n",
    "\n",
    "#different case transformations\n",
    "uppercase = np.char.upper(arr)\n",
    "lowercase = np.char.lower(arr)\n",
    "titlecase = np.char.title(arr)\n",
    "\n",
    "print(\"Uppercase:\\n\", uppercase)\n",
    "print(\"Lowercase:\\n\", lowercase)\n",
    "print(\"Titlecase:\\n\", titlecase)\n"
   ]
  },
  {
   "cell_type": "code",
   "execution_count": null,
   "id": "ebaf290e-3ddb-4dd8-b5ed-bcbb602469b4",
   "metadata": {},
   "outputs": [],
   "source": [
    "# 6. Generate a NumPy array of words. Insert a space between each character of every word in the array."
   ]
  },
  {
   "cell_type": "code",
   "execution_count": 19,
   "id": "df9f31af-2e36-4a4a-9fde-c68c5343e488",
   "metadata": {},
   "outputs": [
    {
     "name": "stdout",
     "output_type": "stream",
     "text": [
      "Words with spaces:\n",
      " ['h e l l o' 'w o r l d' 'n u m p y']\n"
     ]
    }
   ],
   "source": [
    "#array of words\n",
    "arr = np.array(['hello', 'world', 'numpy'])\n",
    "# Insert a space between each character\n",
    "spaced_words = np.char.join(' ', arr)\n",
    "print(\"Words with spaces:\\n\", spaced_words)\n"
   ]
  },
  {
   "cell_type": "code",
   "execution_count": null,
   "id": "52148848-275f-47e9-8674-8868646500bc",
   "metadata": {},
   "outputs": [],
   "source": [
    "# 7. Create two 2D NumPy arrays and perform element-wise addition, subtraction, multiplication, and division."
   ]
  },
  {
   "cell_type": "code",
   "execution_count": 21,
   "id": "97153323-8426-4579-b759-4b8615d6a9a7",
   "metadata": {},
   "outputs": [
    {
     "name": "stdout",
     "output_type": "stream",
     "text": [
      "Addition:\n",
      " [[ 6  8]\n",
      " [10 12]]\n",
      "Subtraction:\n",
      " [[-4 -4]\n",
      " [-4 -4]]\n",
      "Multiplication:\n",
      " [[ 5 12]\n",
      " [21 32]]\n",
      "Division:\n",
      " [[0.2        0.33333333]\n",
      " [0.42857143 0.5       ]]\n"
     ]
    }
   ],
   "source": [
    "# Create two 2D arrays\n",
    "arr1 = np.array([[1, 2], [3, 4]])\n",
    "arr2 = np.array([[5, 6], [7, 8]])\n",
    "# Element-wise operations\n",
    "add = np.add(arr1, arr2)\n",
    "subtract = np.subtract(arr1, arr2)\n",
    "multiply = np.multiply(arr1, arr2)\n",
    "divide = np.divide(arr1, arr2)\n",
    "\n",
    "print(\"Addition:\\n\", add)\n",
    "print(\"Subtraction:\\n\", subtract)\n",
    "print(\"Multiplication:\\n\", multiply)\n",
    "print(\"Division:\\n\", divide)\n"
   ]
  },
  {
   "cell_type": "code",
   "execution_count": null,
   "id": "84c0dd68-3a9b-4bac-a73e-3bc77e335b5f",
   "metadata": {},
   "outputs": [],
   "source": [
    "# 8. Use NumPy to create a 5x5 identity matrix, then extract its diagonal elements. "
   ]
  },
  {
   "cell_type": "code",
   "execution_count": 23,
   "id": "8fe5159e-903d-4c55-b1ff-cd5a90a0dc3e",
   "metadata": {},
   "outputs": [
    {
     "name": "stdout",
     "output_type": "stream",
     "text": [
      "5x5 Identity Matrix:\n",
      " [[1. 0. 0. 0. 0.]\n",
      " [0. 1. 0. 0. 0.]\n",
      " [0. 0. 1. 0. 0.]\n",
      " [0. 0. 0. 1. 0.]\n",
      " [0. 0. 0. 0. 1.]]\n",
      "Diagonal Elements:\n",
      " [1. 1. 1. 1. 1.]\n"
     ]
    }
   ],
   "source": [
    "# 5x5 identity matrix\n",
    "identity_matrix = np.eye(5)\n",
    "print(\"5x5 Identity Matrix:\\n\", identity_matrix)\n",
    "\n",
    "# Extract diagonal elements\n",
    "diagonal_elements = np.diag(identity_matrix)\n",
    "print(\"Diagonal Elements:\\n\", diagonal_elements)\n"
   ]
  },
  {
   "cell_type": "code",
   "execution_count": null,
   "id": "b7b44fd0-8615-4c8c-a410-93b667c20956",
   "metadata": {},
   "outputs": [],
   "source": [
    "#9. Generate a NumPy array of 100 random integers between 0 and 1000. Find and display all prime numbers in this array. "
   ]
  },
  {
   "cell_type": "code",
   "execution_count": 25,
   "id": "828e5b5b-ab43-43df-a0d7-f42e4831d924",
   "metadata": {},
   "outputs": [
    {
     "name": "stdout",
     "output_type": "stream",
     "text": [
      "Prime Numbers:\n",
      " [103 227 163 191 541 607 719 653 541 691  53 167 131 313 739 347 449]\n"
     ]
    }
   ],
   "source": [
    "arr = np.random.randint(0, 1001, 100)\n",
    "def is_prime(num):\n",
    "    if num < 2:\n",
    "        return False\n",
    "    for i in range(2, int(num**0.5) + 1):\n",
    "        if num % i == 0:\n",
    "            return False\n",
    "    return True\n",
    "\n",
    "# Filter prime numbers\n",
    "primes = arr[np.vectorize(is_prime)(arr)]\n",
    "print(\"Prime Numbers:\\n\", primes)\n"
   ]
  },
  {
   "cell_type": "code",
   "execution_count": null,
   "id": "0a77e2c4-d178-4727-b923-4254d5cc3267",
   "metadata": {},
   "outputs": [],
   "source": [
    "#10. Create a NumPy array representing daily temperatures for a month. Calculate and display the weekly averages."
   ]
  },
  {
   "cell_type": "code",
   "execution_count": 27,
   "id": "733823e4-9cd5-4f10-b7c7-90abeea32687",
   "metadata": {},
   "outputs": [
    {
     "name": "stdout",
     "output_type": "stream",
     "text": [
      "Daily Temperatures:\n",
      " [25 23 32 25 26 23 34 26 25 27 25 21 34 20 31 22 31 25 28 22 23 30 30 30\n",
      " 30 32 22 20 32 32]\n",
      "Weekly Averages:\n",
      " [25.666666666666668, 26.333333333333332, 27.166666666666668, 27.166666666666668, 28.0]\n"
     ]
    }
   ],
   "source": [
    "temperatures = np.random.randint(20, 35, 30)\n",
    "print(\"Daily Temperatures:\\n\", temperatures)\n",
    "\n",
    "# Reshape into weeks (4 weeks of 7 days, plus 2 extra days)\n",
    "weekly_temps = np.array_split(temperatures, 5)  # Handles the remaining days in the last week\n",
    "\n",
    "# Calculate weekly averages\n",
    "weekly_averages = [week.mean() for week in weekly_temps]\n",
    "print(\"Weekly Averages:\\n\", weekly_averages)\n"
   ]
  },
  {
   "cell_type": "code",
   "execution_count": null,
   "id": "7fd7471a-6172-4a64-8c50-cfdb5af0c176",
   "metadata": {},
   "outputs": [],
   "source": []
  },
  {
   "cell_type": "code",
   "execution_count": null,
   "id": "1c4df93d-fb7a-4c54-854e-b3b0ae0277a4",
   "metadata": {},
   "outputs": [],
   "source": []
  },
  {
   "cell_type": "code",
   "execution_count": null,
   "id": "0e285ad9-62be-4a08-a570-a789a7570446",
   "metadata": {},
   "outputs": [],
   "source": []
  },
  {
   "cell_type": "code",
   "execution_count": null,
   "id": "43934b0b-38c9-483f-9ec9-6c2fa13e1ba1",
   "metadata": {},
   "outputs": [],
   "source": []
  },
  {
   "cell_type": "code",
   "execution_count": null,
   "id": "b76b39c0-7444-4df8-817f-094bd9c4a2d5",
   "metadata": {},
   "outputs": [],
   "source": []
  },
  {
   "cell_type": "code",
   "execution_count": null,
   "id": "8e1e98cb-aa1b-4c9e-bfc9-6e313f867388",
   "metadata": {},
   "outputs": [],
   "source": []
  },
  {
   "cell_type": "code",
   "execution_count": null,
   "id": "22d80f54-6e01-4a87-beba-fb492ee39c0d",
   "metadata": {},
   "outputs": [],
   "source": []
  },
  {
   "cell_type": "code",
   "execution_count": null,
   "id": "bc9a730e-50f6-4cea-adad-31f5fdabacb2",
   "metadata": {},
   "outputs": [],
   "source": []
  }
 ],
 "metadata": {
  "kernelspec": {
   "display_name": "Python 3 (ipykernel)",
   "language": "python",
   "name": "python3"
  },
  "language_info": {
   "codemirror_mode": {
    "name": "ipython",
    "version": 3
   },
   "file_extension": ".py",
   "mimetype": "text/x-python",
   "name": "python",
   "nbconvert_exporter": "python",
   "pygments_lexer": "ipython3",
   "version": "3.12.7"
  }
 },
 "nbformat": 4,
 "nbformat_minor": 5
}
